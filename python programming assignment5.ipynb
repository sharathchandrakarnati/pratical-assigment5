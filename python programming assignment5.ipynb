{
 "cells": [
  {
   "cell_type": "markdown",
   "id": "66988484",
   "metadata": {},
   "source": [
    "## 5.\tWrite a Python Program to Make a Simple Calculator with 4 basic mathematical operations?"
   ]
  },
  {
   "cell_type": "code",
   "execution_count": 7,
   "id": "42854d2a",
   "metadata": {},
   "outputs": [
    {
     "name": "stdout",
     "output_type": "stream",
     "text": [
      "please select the mathametical operator\n",
      "a.ADD\n",
      "b.SUB\n",
      "c.MUL\n",
      "d.DIV\n",
      "please enter choice (a/b/c/d)c\n",
      "enter the first number12\n",
      "enter the second  number3\n",
      "12 * 3 = 36\n"
     ]
    }
   ],
   "source": [
    "def add(a,b):\n",
    "    return a+b\n",
    "def sub(a,b):\n",
    "    return a-b\n",
    "def mul(a,b):\n",
    "    return a*b\n",
    "def div(a,b):\n",
    "    return a/b\n",
    "print(\"please select the mathametical operator\")\n",
    "print(\"a.ADD\")\n",
    "print(\"b.SUB\")\n",
    "print(\"c.MUL\")\n",
    "print(\"d.DIV\")\n",
    " \n",
    "select = input(\"please enter choice (a/b/c/d)\")\n",
    "\n",
    "first_number = int(input(\"enter the first number\"))\n",
    "second_number = int(input(\"enter the second  number\"))\n",
    "if select == 'a':\n",
    "    print(first_number,\"+\",second_number,\"=\",add(first_number,second_number))\n",
    "elif select == 'b':\n",
    "      print(first_number,\"-\",second_number,\"=\",sub(first_number,second_number))\n",
    "elif select == 'c':\n",
    "     print(first_number,\"*\",second_number,\"=\",mul(first_number,second_number))\n",
    "elif select == 'd':\n",
    "    print(first_number,\"/\",second_number,\"=\",div(first_number,second_number))\n",
    "else:\n",
    "     print(\"Invalid Number \")\n",
    "    "
   ]
  },
  {
   "cell_type": "markdown",
   "id": "e2d65ea0",
   "metadata": {},
   "source": [
    "## 1.Write a Python Program to Find LCM"
   ]
  },
  {
   "cell_type": "code",
   "execution_count": 16,
   "id": "ed8c2aa5",
   "metadata": {},
   "outputs": [
    {
     "name": "stdout",
     "output_type": "stream",
     "text": [
      "Enter first number: 3\n",
      "Enter second number: 4\n",
      "The L.C.M. of 3 and 4 is 12\n"
     ]
    }
   ],
   "source": [
    "def calculate_lcm(x, y):  \n",
    "    \n",
    "    if x > y:  \n",
    "        greater = x  \n",
    "    else:  \n",
    "        greater = y  \n",
    "    while(True):  \n",
    "        if((greater % x == 0) and (greater % y == 0)):  \n",
    "            lcm = greater  \n",
    "            break  \n",
    "        greater += 1  \n",
    "    return lcm    \n",
    "num1 = int(input(\"Enter first number: \"))  \n",
    "num2 = int(input(\"Enter second number: \"))  \n",
    "print(\"The L.C.M. of\", num1,\"and\", num2,\"is\", calculate_lcm(num1, num2))  "
   ]
  },
  {
   "cell_type": "markdown",
   "id": "abc0553c",
   "metadata": {},
   "source": [
    "### Write a Python Program to Find HCF?"
   ]
  },
  {
   "cell_type": "code",
   "execution_count": 2,
   "id": "994d12f4",
   "metadata": {},
   "outputs": [],
   "source": [
    "def hcf(x,y):\n",
    "    if x>y:\n",
    "        smaller = y\n",
    "    else:\n",
    "        smaller = x\n",
    "    for i in range(1,smaller+1):\n",
    "        if((x% i ==0) and (y %i ==0)):\n",
    "            hcf = i\n",
    "    return hcf "
   ]
  },
  {
   "cell_type": "code",
   "execution_count": 4,
   "id": "5b2b407b",
   "metadata": {},
   "outputs": [
    {
     "data": {
      "text/plain": [
       "1"
      ]
     },
     "execution_count": 4,
     "metadata": {},
     "output_type": "execute_result"
    }
   ],
   "source": [
    "hcf(10,13)"
   ]
  },
  {
   "cell_type": "markdown",
   "id": "834f4a8a",
   "metadata": {},
   "source": [
    "## 3.Write a Python Program to Convert Decimal to Binary, Octal and Hexadecimal?"
   ]
  },
  {
   "cell_type": "code",
   "execution_count": 5,
   "id": "24f33b65",
   "metadata": {},
   "outputs": [],
   "source": [
    "def dec(x):\n",
    "    print(\"decimal value of\",x,\"is\")\n",
    "    print(bin(x),\"in binary.\")\n",
    "    print(oct(x) , \"in octal\")\n",
    "    print(hex(x), \"in hexa\")\n",
    "    return x"
   ]
  },
  {
   "cell_type": "code",
   "execution_count": 6,
   "id": "3edc0341",
   "metadata": {},
   "outputs": [
    {
     "name": "stdout",
     "output_type": "stream",
     "text": [
      "decimal value of 2 is\n",
      "0b10 in binary.\n",
      "0o2 in octal\n",
      "0x2 in hexa\n"
     ]
    },
    {
     "data": {
      "text/plain": [
       "2"
      ]
     },
     "execution_count": 6,
     "metadata": {},
     "output_type": "execute_result"
    }
   ],
   "source": [
    "dec(2)"
   ]
  },
  {
   "cell_type": "code",
   "execution_count": 7,
   "id": "4001d625",
   "metadata": {},
   "outputs": [
    {
     "name": "stdout",
     "output_type": "stream",
     "text": [
      "decimal value of 2 is\n",
      "0b10 in binary.\n",
      "0o2 in octal\n",
      "0x2 in hexa\n"
     ]
    },
    {
     "data": {
      "text/plain": [
       "int"
      ]
     },
     "execution_count": 7,
     "metadata": {},
     "output_type": "execute_result"
    }
   ],
   "source": [
    "type(dec(2))"
   ]
  },
  {
   "cell_type": "code",
   "execution_count": 8,
   "id": "e51d98ca",
   "metadata": {},
   "outputs": [
    {
     "name": "stdout",
     "output_type": "stream",
     "text": [
      "decimal value of 32423 is\n",
      "0b111111010100111 in binary.\n",
      "0o77247 in octal\n",
      "0x7ea7 in hexa\n"
     ]
    },
    {
     "data": {
      "text/plain": [
       "32423"
      ]
     },
     "execution_count": 8,
     "metadata": {},
     "output_type": "execute_result"
    }
   ],
   "source": [
    "dec(32423)"
   ]
  },
  {
   "cell_type": "markdown",
   "id": "d517b402",
   "metadata": {},
   "source": [
    "# 4.Write a Python Program To Find ASCII value of a character?"
   ]
  },
  {
   "cell_type": "code",
   "execution_count": 12,
   "id": "ce3a4606",
   "metadata": {},
   "outputs": [],
   "source": [
    "def asci(x):\n",
    "    print(\"The ASCII value of '\" + x + \"' is\", ord(x))\n",
    "    return(x)"
   ]
  },
  {
   "cell_type": "code",
   "execution_count": 13,
   "id": "0b3f5f12",
   "metadata": {},
   "outputs": [
    {
     "name": "stdout",
     "output_type": "stream",
     "text": [
      "The ASCII value of 'p' is 112\n"
     ]
    },
    {
     "data": {
      "text/plain": [
       "'p'"
      ]
     },
     "execution_count": 13,
     "metadata": {},
     "output_type": "execute_result"
    }
   ],
   "source": [
    "asci('p')"
   ]
  },
  {
   "cell_type": "code",
   "execution_count": 14,
   "id": "b4838807",
   "metadata": {},
   "outputs": [
    {
     "name": "stdout",
     "output_type": "stream",
     "text": [
      "The ASCII value of 'p' is 112\n"
     ]
    },
    {
     "data": {
      "text/plain": [
       "str"
      ]
     },
     "execution_count": 14,
     "metadata": {},
     "output_type": "execute_result"
    }
   ],
   "source": [
    "type(asci('p'))"
   ]
  },
  {
   "cell_type": "code",
   "execution_count": null,
   "id": "58755550",
   "metadata": {},
   "outputs": [],
   "source": []
  }
 ],
 "metadata": {
  "kernelspec": {
   "display_name": "Python 3 (ipykernel)",
   "language": "python",
   "name": "python3"
  },
  "language_info": {
   "codemirror_mode": {
    "name": "ipython",
    "version": 3
   },
   "file_extension": ".py",
   "mimetype": "text/x-python",
   "name": "python",
   "nbconvert_exporter": "python",
   "pygments_lexer": "ipython3",
   "version": "3.9.12"
  }
 },
 "nbformat": 4,
 "nbformat_minor": 5
}
